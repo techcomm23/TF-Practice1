{
 "cells": [
  {
   "cell_type": "code",
   "execution_count": 1,
   "id": "controversial-debut",
   "metadata": {},
   "outputs": [],
   "source": [
    "# <>\n"
   ]
  },
  {
   "cell_type": "code",
   "execution_count": 2,
   "id": "thorough-designation",
   "metadata": {},
   "outputs": [],
   "source": [
    "# <>\n"
   ]
  },
  {
   "cell_type": "code",
   "execution_count": 3,
   "id": "future-nitrogen",
   "metadata": {},
   "outputs": [],
   "source": [
    "# <>\n"
   ]
  },
  {
   "cell_type": "code",
   "execution_count": 4,
   "id": "announced-confidentiality",
   "metadata": {},
   "outputs": [],
   "source": [
    "# <>\n"
   ]
  },
  {
   "cell_type": "code",
   "execution_count": 5,
   "id": "critical-village",
   "metadata": {},
   "outputs": [],
   "source": [
    "# <>\n"
   ]
  },
  {
   "cell_type": "code",
   "execution_count": 6,
   "id": "political-study",
   "metadata": {},
   "outputs": [],
   "source": [
    "# <>\n"
   ]
  },
  {
   "cell_type": "code",
   "execution_count": 7,
   "id": "final-wrestling",
   "metadata": {},
   "outputs": [],
   "source": [
    "# <>\n"
   ]
  },
  {
   "cell_type": "code",
   "execution_count": 8,
   "id": "accepting-exclusive",
   "metadata": {},
   "outputs": [],
   "source": [
    "# <>\n"
   ]
  },
  {
   "cell_type": "code",
   "execution_count": 9,
   "id": "neither-driving",
   "metadata": {},
   "outputs": [],
   "source": [
    "# <>\n"
   ]
  },
  {
   "cell_type": "code",
   "execution_count": 10,
   "id": "paperback-survival",
   "metadata": {},
   "outputs": [],
   "source": [
    "# <>\n"
   ]
  },
  {
   "cell_type": "code",
   "execution_count": 11,
   "id": "common-bennett",
   "metadata": {},
   "outputs": [],
   "source": [
    "# <>\n"
   ]
  },
  {
   "cell_type": "code",
   "execution_count": 12,
   "id": "congressional-separation",
   "metadata": {},
   "outputs": [],
   "source": [
    "# <>\n"
   ]
  },
  {
   "cell_type": "code",
   "execution_count": 13,
   "id": "romantic-australia",
   "metadata": {},
   "outputs": [],
   "source": [
    "# <>\n"
   ]
  },
  {
   "cell_type": "code",
   "execution_count": 14,
   "id": "enormous-nightmare",
   "metadata": {},
   "outputs": [],
   "source": [
    "# <>\n"
   ]
  },
  {
   "cell_type": "code",
   "execution_count": 15,
   "id": "difficult-december",
   "metadata": {},
   "outputs": [],
   "source": [
    "# <>\n"
   ]
  },
  {
   "cell_type": "code",
   "execution_count": null,
   "id": "supposed-budget",
   "metadata": {},
   "outputs": [],
   "source": []
  }
 ],
 "metadata": {
  "kernelspec": {
   "display_name": "Python 3",
   "language": "python",
   "name": "python3"
  },
  "language_info": {
   "codemirror_mode": {
    "name": "ipython",
    "version": 3
   },
   "file_extension": ".py",
   "mimetype": "text/x-python",
   "name": "python",
   "nbconvert_exporter": "python",
   "pygments_lexer": "ipython3",
   "version": "3.7.10"
  }
 },
 "nbformat": 4,
 "nbformat_minor": 5
}
